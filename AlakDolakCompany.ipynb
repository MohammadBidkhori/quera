{
 "cells": [
  {
   "cell_type": "markdown",
   "id": "5bb26fe3",
   "metadata": {},
   "source": [
    "# In the name of Allah"
   ]
  },
  {
   "cell_type": "markdown",
   "id": "1a84bd22",
   "metadata": {},
   "source": [
    "### Import base library"
   ]
  },
  {
   "cell_type": "code",
   "execution_count": 1,
   "id": "24c15b39",
   "metadata": {},
   "outputs": [],
   "source": [
    "import numpy as np"
   ]
  },
  {
   "cell_type": "markdown",
   "id": "7ed9dc9b",
   "metadata": {},
   "source": [
    "### Load data in numpy"
   ]
  },
  {
   "cell_type": "code",
   "execution_count": 2,
   "id": "050fccb5",
   "metadata": {},
   "outputs": [],
   "source": [
    "M = np.genfromtxt(\"train.csv\",delimiter=',')\n"
   ]
  },
  {
   "cell_type": "markdown",
   "id": "1c1d289d",
   "metadata": {},
   "source": [
    "#### Select X and Y from data"
   ]
  },
  {
   "cell_type": "code",
   "execution_count": 3,
   "id": "5b01eb8a",
   "metadata": {},
   "outputs": [],
   "source": [
    "X = M[1:,:10]\n",
    "Y = M[1:,10]"
   ]
  },
  {
   "cell_type": "markdown",
   "id": "ce8587e2",
   "metadata": {},
   "source": [
    "### Apply Formula "
   ]
  },
  {
   "cell_type": "code",
   "execution_count": 4,
   "id": "2c647acd",
   "metadata": {},
   "outputs": [],
   "source": [
    "ans = (np.linalg.inv(X.T @ X) @ X.T @Y)"
   ]
  },
  {
   "cell_type": "markdown",
   "id": "00d82e05",
   "metadata": {},
   "source": [
    "### Save Answer"
   ]
  },
  {
   "cell_type": "code",
   "execution_count": 5,
   "id": "eb2645e1",
   "metadata": {},
   "outputs": [],
   "source": [
    "np.savetxt(\"ans.txt\",ans, fmt=\"%f\")"
   ]
  }
 ],
 "metadata": {
  "kernelspec": {
   "display_name": "Python 3 (ipykernel)",
   "language": "python",
   "name": "python3"
  },
  "language_info": {
   "codemirror_mode": {
    "name": "ipython",
    "version": 3
   },
   "file_extension": ".py",
   "mimetype": "text/x-python",
   "name": "python",
   "nbconvert_exporter": "python",
   "pygments_lexer": "ipython3",
   "version": "3.9.13"
  }
 },
 "nbformat": 4,
 "nbformat_minor": 5
}
